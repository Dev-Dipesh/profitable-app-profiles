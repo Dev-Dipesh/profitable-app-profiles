{
 "cells": [
  {
   "attachments": {},
   "cell_type": "markdown",
   "metadata": {
    "datalore": {
     "hide_input_from_viewers": false,
     "hide_output_from_viewers": false,
     "node_id": "Sheet",
     "sheet_delimiter": true,
     "type": "MD"
    }
   },
   "source": [
    "# Sheet"
   ]
  },
  {
   "attachments": {},
   "cell_type": "markdown",
   "metadata": {
    "datalore": {
     "hide_input_from_viewers": false,
     "hide_output_from_viewers": false,
     "node_id": "PSTdxrqCBltlsCqdtqLFYU",
     "type": "MD"
    }
   },
   "source": [
    "# Profitable App Profiles for the App Store and Google Play Markets"
   ]
  },
  {
   "attachments": {},
   "cell_type": "markdown",
   "metadata": {
    "datalore": {
     "hide_input_from_viewers": false,
     "hide_output_from_viewers": false,
     "node_id": "83RlWsfFANJ6tdtO85eRen",
     "type": "MD"
    }
   },
   "source": [
    "## DS PROJECT PHASES\n",
    "1. **Business Understanding** - Ask relevant questions and define objectives for the problem.\n",
    "2. **Data Mining** - Gather and scrape the data necessary for the project.\n",
    "3. **Data Cleaning** - Fix the inconsistencies within the data and handle the duplicate and missing values.\n",
    "4. **Data Exploration** - Form hypothesis about the defined problem by visually analyzing the data.\n",
    "5. **Feature Engineering** - Select important features and construct more meaningful ones using the raw data.\n",
    "6. **Data Science** - Perform data anlaysis to test the previously created hypothesis with respect to the problem definition.\n",
    "7. **Data Visualization** - Communicate the findings with the key stakeholders using plots and interactive visualizations."
   ]
  },
  {
   "attachments": {},
   "cell_type": "markdown",
   "metadata": {
    "datalore": {
     "hide_input_from_viewers": false,
     "hide_output_from_viewers": false,
     "node_id": "a2OuB4ciPNmbDqxIhiumOl",
     "type": "MD"
    }
   },
   "source": [
    "## 1. Business Understanding\n",
    "### 📝 PROBLEM DEFINITION\n",
    "As a business leader, I want to know what type of mobile apps can generate most revenue, so I can deliver higher developer time and effort to business value to the company stakeholders.\n",
    "\n",
    "### ⛳️ GOAL\n",
    "Identify mobile app profiles that are profitable for the Apple App Store and Google Play Store markets.\n",
    "\n",
    "### 🔍 SCOPE\n",
    "Our company only builds Android and iOS mobile apps for English speaking people that are free to download and install, and our main source of revenue consists of in-app ads. This means that our revenue for any given app is mostly influenced by the number of users that use our app."
   ]
  },
  {
   "attachments": {},
   "cell_type": "markdown",
   "metadata": {
    "datalore": {
     "hide_input_from_viewers": false,
     "hide_output_from_viewers": false,
     "node_id": "o1i4BDNa2oZFLt3MkXOc0L",
     "type": "MD"
    }
   },
   "source": [
    "## 2. Data Mining\n",
    "> Since this is a sample project, we will work with an older data set. In a real-world scenario, we may have to spend time and resources to collect the latest data.\n",
    "\n",
    "As of September 2018, there were approximately 2 million iOS apps available on the App Store, and 2.1 million Android apps on Google Play.\n",
    "\n",
    "Collecting data for over four million apps requires a significant amount of time and money, so we'll try to analyze a sample of data instead. To avoid spending resources on collecting new data ourselves, we should first try to see whether we can find any relevant existing data at no cost. Fortunately, these are two data sets that seem suitable for our purpose:\n",
    "\n",
    "- [A data set](https://www.kaggle.com/lava18/google-play-store-apps) containing data about approximately ten thousand Android apps from Google Play. You can download the data set directly from [this link](https://dq-content.s3.amazonaws.com/350/googleplaystore.csv).\n",
    "- [A data set](https://www.kaggle.com/ramamet4/app-store-apple-data-set-10k-apps) containing data about approximately seven thousand iOS apps from the App Store. You can download the data set directly from [this link](https://dq-content.s3.amazonaws.com/350/AppleStore.csv).\n",
    "\n",
    "Let's start by opening the two data sets and then continue with the next phases."
   ]
  },
  {
   "cell_type": "code",
   "execution_count": 1,
   "metadata": {
    "datalore": {
     "hide_input_from_viewers": false,
     "hide_output_from_viewers": false,
     "node_id": "OOlMFCox0ykTp3x3xKvyC0",
     "type": "CODE"
    }
   },
   "outputs": [],
   "source": [
    "from csv import reader"
   ]
  },
  {
   "cell_type": "code",
   "execution_count": 2,
   "metadata": {
    "datalore": {
     "hide_input_from_viewers": false,
     "hide_output_from_viewers": false,
     "node_id": "dUOjbXvhBYfp9nNBhP7TJG",
     "type": "CODE"
    }
   },
   "outputs": [],
   "source": [
    "## Open Google Play Store Dataset\n",
    "open_file = open('googleplaystore.csv')\n",
    "read_file = reader(open_file)\n",
    "android = list(read_file)\n",
    "android_header = android[0]\n",
    "android = android[1:]"
   ]
  },
  {
   "cell_type": "code",
   "execution_count": 3,
   "metadata": {
    "datalore": {
     "hide_input_from_viewers": false,
     "hide_output_from_viewers": false,
     "node_id": "wncZd5c1UGsLEw92AwWy5w",
     "type": "CODE"
    }
   },
   "outputs": [],
   "source": [
    "## Open Apple App Store Dataset\n",
    "open_file = open('AppleStore.csv')\n",
    "read_file = reader(open_file)\n",
    "ios = list(read_file)\n",
    "ios_header = ios[0]\n",
    "ios = ios[1:]"
   ]
  },
  {
   "attachments": {},
   "cell_type": "markdown",
   "metadata": {
    "datalore": {
     "hide_input_from_viewers": false,
     "hide_output_from_viewers": false,
     "node_id": "pJdsUZjXEylfCxyInao4XH",
     "type": "MD"
    }
   },
   "source": [
    "Let's first take a quick look at the data and header to understand it. We will first start witht he Google Play Store data."
   ]
  },
  {
   "cell_type": "code",
   "execution_count": 4,
   "metadata": {
    "datalore": {
     "hide_input_from_viewers": false,
     "hide_output_from_viewers": false,
     "node_id": "QJKc9jT9mwimzyxRmi9r8i",
     "type": "CODE"
    }
   },
   "outputs": [],
   "source": [
    "# let's create a function to print header with index number\n",
    "# so we don't have to manually calculate it everytime when accessing the data\n",
    "def header_indices(header):\n",
    "    i = 0\n",
    "    header_dict = {}\n",
    "    while i < len(header):\n",
    "        header_dict[header[i]] = i # with this format we can also use the col name to access the inxex number\n",
    "        i += 1\n",
    "    return header_dict"
   ]
  },
  {
   "cell_type": "code",
   "execution_count": 5,
   "metadata": {
    "datalore": {
     "hide_input_from_viewers": false,
     "hide_output_from_viewers": false,
     "node_id": "vuqum5XwvKVvVO4mlVU16a",
     "type": "CODE"
    }
   },
   "outputs": [
    {
     "data": {
      "text/plain": [
       "{'App': 0,\n",
       " 'Category': 1,\n",
       " 'Rating': 2,\n",
       " 'Reviews': 3,\n",
       " 'Size': 4,\n",
       " 'Installs': 5,\n",
       " 'Type': 6,\n",
       " 'Price': 7,\n",
       " 'Content Rating': 8,\n",
       " 'Genres': 9,\n",
       " 'Last Updated': 10,\n",
       " 'Current Ver': 11,\n",
       " 'Android Ver': 12}"
      ]
     },
     "execution_count": 5,
     "metadata": {},
     "output_type": "execute_result"
    }
   ],
   "source": [
    "an_hi = header_indices(android_header)\n",
    "an_hi"
   ]
  },
  {
   "cell_type": "code",
   "execution_count": 6,
   "metadata": {
    "datalore": {
     "hide_input_from_viewers": false,
     "hide_output_from_viewers": false,
     "node_id": "wKB5xcWQW4lBYIfgPIBzpn",
     "type": "CODE"
    }
   },
   "outputs": [
    {
     "data": {
      "text/plain": [
       "[['Photo Editor & Candy Camera & Grid & ScrapBook',\n",
       "  'ART_AND_DESIGN',\n",
       "  '4.1',\n",
       "  '159',\n",
       "  '19M',\n",
       "  '10,000+',\n",
       "  'Free',\n",
       "  '0',\n",
       "  'Everyone',\n",
       "  'Art & Design',\n",
       "  'January 7, 2018',\n",
       "  '1.0.0',\n",
       "  '4.0.3 and up'],\n",
       " ['Coloring book moana',\n",
       "  'ART_AND_DESIGN',\n",
       "  '3.9',\n",
       "  '967',\n",
       "  '14M',\n",
       "  '500,000+',\n",
       "  'Free',\n",
       "  '0',\n",
       "  'Everyone',\n",
       "  'Art & Design;Pretend Play',\n",
       "  'January 15, 2018',\n",
       "  '2.0.0',\n",
       "  '4.0.3 and up'],\n",
       " ['U Launcher Lite – FREE Live Cool Themes, Hide Apps',\n",
       "  'ART_AND_DESIGN',\n",
       "  '4.7',\n",
       "  '87510',\n",
       "  '8.7M',\n",
       "  '5,000,000+',\n",
       "  'Free',\n",
       "  '0',\n",
       "  'Everyone',\n",
       "  'Art & Design',\n",
       "  'August 1, 2018',\n",
       "  '1.2.4',\n",
       "  '4.0.3 and up']]"
      ]
     },
     "execution_count": 6,
     "metadata": {},
     "output_type": "execute_result"
    }
   ],
   "source": [
    "android[:3]"
   ]
  },
  {
   "cell_type": "code",
   "execution_count": 7,
   "metadata": {
    "datalore": {
     "hide_input_from_viewers": false,
     "hide_output_from_viewers": false,
     "node_id": "pvcbpCkRNFQWArGR7IYKXF",
     "type": "CODE"
    }
   },
   "outputs": [
    {
     "data": {
      "text/html": [
       "<div>\n",
       "<style scoped>\n",
       "    .dataframe tbody tr th:only-of-type {\n",
       "        vertical-align: middle;\n",
       "    }\n",
       "\n",
       "    .dataframe tbody tr th {\n",
       "        vertical-align: top;\n",
       "    }\n",
       "\n",
       "    .dataframe thead th {\n",
       "        text-align: right;\n",
       "    }\n",
       "</style>\n",
       "<table border=\"1\" class=\"dataframe\">\n",
       "  <thead>\n",
       "    <tr style=\"text-align: right;\">\n",
       "      <th></th>\n",
       "      <th>App</th>\n",
       "      <th>Category</th>\n",
       "      <th>Rating</th>\n",
       "      <th>Reviews</th>\n",
       "      <th>Size</th>\n",
       "      <th>Installs</th>\n",
       "      <th>Type</th>\n",
       "      <th>Price</th>\n",
       "      <th>Content Rating</th>\n",
       "      <th>Genres</th>\n",
       "      <th>Last Updated</th>\n",
       "      <th>Current Ver</th>\n",
       "      <th>Android Ver</th>\n",
       "    </tr>\n",
       "  </thead>\n",
       "  <tbody>\n",
       "    <tr>\n",
       "      <th>0</th>\n",
       "      <td>Photo Editor &amp; Candy Camera &amp; Grid &amp; ScrapBook</td>\n",
       "      <td>ART_AND_DESIGN</td>\n",
       "      <td>4.1</td>\n",
       "      <td>159</td>\n",
       "      <td>19M</td>\n",
       "      <td>10,000+</td>\n",
       "      <td>Free</td>\n",
       "      <td>0</td>\n",
       "      <td>Everyone</td>\n",
       "      <td>Art &amp; Design</td>\n",
       "      <td>January 7, 2018</td>\n",
       "      <td>1.0.0</td>\n",
       "      <td>4.0.3 and up</td>\n",
       "    </tr>\n",
       "    <tr>\n",
       "      <th>1</th>\n",
       "      <td>Coloring book moana</td>\n",
       "      <td>ART_AND_DESIGN</td>\n",
       "      <td>3.9</td>\n",
       "      <td>967</td>\n",
       "      <td>14M</td>\n",
       "      <td>500,000+</td>\n",
       "      <td>Free</td>\n",
       "      <td>0</td>\n",
       "      <td>Everyone</td>\n",
       "      <td>Art &amp; Design;Pretend Play</td>\n",
       "      <td>January 15, 2018</td>\n",
       "      <td>2.0.0</td>\n",
       "      <td>4.0.3 and up</td>\n",
       "    </tr>\n",
       "    <tr>\n",
       "      <th>2</th>\n",
       "      <td>U Launcher Lite – FREE Live Cool Themes, Hide ...</td>\n",
       "      <td>ART_AND_DESIGN</td>\n",
       "      <td>4.7</td>\n",
       "      <td>87510</td>\n",
       "      <td>8.7M</td>\n",
       "      <td>5,000,000+</td>\n",
       "      <td>Free</td>\n",
       "      <td>0</td>\n",
       "      <td>Everyone</td>\n",
       "      <td>Art &amp; Design</td>\n",
       "      <td>August 1, 2018</td>\n",
       "      <td>1.2.4</td>\n",
       "      <td>4.0.3 and up</td>\n",
       "    </tr>\n",
       "    <tr>\n",
       "      <th>3</th>\n",
       "      <td>Sketch - Draw &amp; Paint</td>\n",
       "      <td>ART_AND_DESIGN</td>\n",
       "      <td>4.5</td>\n",
       "      <td>215644</td>\n",
       "      <td>25M</td>\n",
       "      <td>50,000,000+</td>\n",
       "      <td>Free</td>\n",
       "      <td>0</td>\n",
       "      <td>Teen</td>\n",
       "      <td>Art &amp; Design</td>\n",
       "      <td>June 8, 2018</td>\n",
       "      <td>Varies with device</td>\n",
       "      <td>4.2 and up</td>\n",
       "    </tr>\n",
       "    <tr>\n",
       "      <th>4</th>\n",
       "      <td>Pixel Draw - Number Art Coloring Book</td>\n",
       "      <td>ART_AND_DESIGN</td>\n",
       "      <td>4.3</td>\n",
       "      <td>967</td>\n",
       "      <td>2.8M</td>\n",
       "      <td>100,000+</td>\n",
       "      <td>Free</td>\n",
       "      <td>0</td>\n",
       "      <td>Everyone</td>\n",
       "      <td>Art &amp; Design;Creativity</td>\n",
       "      <td>June 20, 2018</td>\n",
       "      <td>1.1</td>\n",
       "      <td>4.4 and up</td>\n",
       "    </tr>\n",
       "    <tr>\n",
       "      <th>...</th>\n",
       "      <td>...</td>\n",
       "      <td>...</td>\n",
       "      <td>...</td>\n",
       "      <td>...</td>\n",
       "      <td>...</td>\n",
       "      <td>...</td>\n",
       "      <td>...</td>\n",
       "      <td>...</td>\n",
       "      <td>...</td>\n",
       "      <td>...</td>\n",
       "      <td>...</td>\n",
       "      <td>...</td>\n",
       "      <td>...</td>\n",
       "    </tr>\n",
       "    <tr>\n",
       "      <th>10836</th>\n",
       "      <td>Sya9a Maroc - FR</td>\n",
       "      <td>FAMILY</td>\n",
       "      <td>4.5</td>\n",
       "      <td>38</td>\n",
       "      <td>53M</td>\n",
       "      <td>5,000+</td>\n",
       "      <td>Free</td>\n",
       "      <td>0</td>\n",
       "      <td>Everyone</td>\n",
       "      <td>Education</td>\n",
       "      <td>July 25, 2017</td>\n",
       "      <td>1.48</td>\n",
       "      <td>4.1 and up</td>\n",
       "    </tr>\n",
       "    <tr>\n",
       "      <th>10837</th>\n",
       "      <td>Fr. Mike Schmitz Audio Teachings</td>\n",
       "      <td>FAMILY</td>\n",
       "      <td>5.0</td>\n",
       "      <td>4</td>\n",
       "      <td>3.6M</td>\n",
       "      <td>100+</td>\n",
       "      <td>Free</td>\n",
       "      <td>0</td>\n",
       "      <td>Everyone</td>\n",
       "      <td>Education</td>\n",
       "      <td>July 6, 2018</td>\n",
       "      <td>1.0</td>\n",
       "      <td>4.1 and up</td>\n",
       "    </tr>\n",
       "    <tr>\n",
       "      <th>10838</th>\n",
       "      <td>Parkinson Exercices FR</td>\n",
       "      <td>MEDICAL</td>\n",
       "      <td>NaN</td>\n",
       "      <td>3</td>\n",
       "      <td>9.5M</td>\n",
       "      <td>1,000+</td>\n",
       "      <td>Free</td>\n",
       "      <td>0</td>\n",
       "      <td>Everyone</td>\n",
       "      <td>Medical</td>\n",
       "      <td>January 20, 2017</td>\n",
       "      <td>1.0</td>\n",
       "      <td>2.2 and up</td>\n",
       "    </tr>\n",
       "    <tr>\n",
       "      <th>10839</th>\n",
       "      <td>The SCP Foundation DB fr nn5n</td>\n",
       "      <td>BOOKS_AND_REFERENCE</td>\n",
       "      <td>4.5</td>\n",
       "      <td>114</td>\n",
       "      <td>Varies with device</td>\n",
       "      <td>1,000+</td>\n",
       "      <td>Free</td>\n",
       "      <td>0</td>\n",
       "      <td>Mature 17+</td>\n",
       "      <td>Books &amp; Reference</td>\n",
       "      <td>January 19, 2015</td>\n",
       "      <td>Varies with device</td>\n",
       "      <td>Varies with device</td>\n",
       "    </tr>\n",
       "    <tr>\n",
       "      <th>10840</th>\n",
       "      <td>iHoroscope - 2018 Daily Horoscope &amp; Astrology</td>\n",
       "      <td>LIFESTYLE</td>\n",
       "      <td>4.5</td>\n",
       "      <td>398307</td>\n",
       "      <td>19M</td>\n",
       "      <td>10,000,000+</td>\n",
       "      <td>Free</td>\n",
       "      <td>0</td>\n",
       "      <td>Everyone</td>\n",
       "      <td>Lifestyle</td>\n",
       "      <td>July 25, 2018</td>\n",
       "      <td>Varies with device</td>\n",
       "      <td>Varies with device</td>\n",
       "    </tr>\n",
       "  </tbody>\n",
       "</table>\n",
       "<p>10841 rows × 13 columns</p>\n",
       "</div>"
      ],
      "text/plain": [
       "                                                     App             Category  \\\n",
       "0         Photo Editor & Candy Camera & Grid & ScrapBook       ART_AND_DESIGN   \n",
       "1                                    Coloring book moana       ART_AND_DESIGN   \n",
       "2      U Launcher Lite – FREE Live Cool Themes, Hide ...       ART_AND_DESIGN   \n",
       "3                                  Sketch - Draw & Paint       ART_AND_DESIGN   \n",
       "4                  Pixel Draw - Number Art Coloring Book       ART_AND_DESIGN   \n",
       "...                                                  ...                  ...   \n",
       "10836                                   Sya9a Maroc - FR               FAMILY   \n",
       "10837                   Fr. Mike Schmitz Audio Teachings               FAMILY   \n",
       "10838                             Parkinson Exercices FR              MEDICAL   \n",
       "10839                      The SCP Foundation DB fr nn5n  BOOKS_AND_REFERENCE   \n",
       "10840      iHoroscope - 2018 Daily Horoscope & Astrology            LIFESTYLE   \n",
       "\n",
       "      Rating Reviews                Size     Installs  Type Price  \\\n",
       "0        4.1     159                 19M      10,000+  Free     0   \n",
       "1        3.9     967                 14M     500,000+  Free     0   \n",
       "2        4.7   87510                8.7M   5,000,000+  Free     0   \n",
       "3        4.5  215644                 25M  50,000,000+  Free     0   \n",
       "4        4.3     967                2.8M     100,000+  Free     0   \n",
       "...      ...     ...                 ...          ...   ...   ...   \n",
       "10836    4.5      38                 53M       5,000+  Free     0   \n",
       "10837    5.0       4                3.6M         100+  Free     0   \n",
       "10838    NaN       3                9.5M       1,000+  Free     0   \n",
       "10839    4.5     114  Varies with device       1,000+  Free     0   \n",
       "10840    4.5  398307                 19M  10,000,000+  Free     0   \n",
       "\n",
       "      Content Rating                     Genres      Last Updated  \\\n",
       "0           Everyone               Art & Design   January 7, 2018   \n",
       "1           Everyone  Art & Design;Pretend Play  January 15, 2018   \n",
       "2           Everyone               Art & Design    August 1, 2018   \n",
       "3               Teen               Art & Design      June 8, 2018   \n",
       "4           Everyone    Art & Design;Creativity     June 20, 2018   \n",
       "...              ...                        ...               ...   \n",
       "10836       Everyone                  Education     July 25, 2017   \n",
       "10837       Everyone                  Education      July 6, 2018   \n",
       "10838       Everyone                    Medical  January 20, 2017   \n",
       "10839     Mature 17+          Books & Reference  January 19, 2015   \n",
       "10840       Everyone                  Lifestyle     July 25, 2018   \n",
       "\n",
       "              Current Ver         Android Ver  \n",
       "0                   1.0.0        4.0.3 and up  \n",
       "1                   2.0.0        4.0.3 and up  \n",
       "2                   1.2.4        4.0.3 and up  \n",
       "3      Varies with device          4.2 and up  \n",
       "4                     1.1          4.4 and up  \n",
       "...                   ...                 ...  \n",
       "10836                1.48          4.1 and up  \n",
       "10837                 1.0          4.1 and up  \n",
       "10838                 1.0          2.2 and up  \n",
       "10839  Varies with device  Varies with device  \n",
       "10840  Varies with device  Varies with device  \n",
       "\n",
       "[10841 rows x 13 columns]"
      ]
     },
     "execution_count": 7,
     "metadata": {},
     "output_type": "execute_result"
    }
   ],
   "source": [
    "# We're not going to use Pandas in this notebook but for the sake of better sneak peak at the data we will use it on the dataset\n",
    "import pandas as pd\n",
    "\n",
    "pd.DataFrame(android, columns=android_header)"
   ]
  },
  {
   "attachments": {},
   "cell_type": "markdown",
   "metadata": {
    "datalore": {
     "hide_input_from_viewers": false,
     "hide_output_from_viewers": false,
     "node_id": "iZLfFUFWLyHZHYZiPvtSUw",
     "type": "MD"
    }
   },
   "source": [
    "## 3. Data Cleaning (DC)\n",
    "\n",
    "1. Sometimes the dataset can have column shift due to incorrect columns of data for some rows. In google play store dataset one such row exist. It's helpful to write a helper function to do a quick check on such rows and eliminate them.\n",
    "2. As shown in the statistics tab in the table above, we've 9660 unique apps out of 10841. That means we will need to eliminate duplicates.\n",
    "3. As defined in the scope, our company only develops **free** apps. We can eliminate all paid apps from the data.\n",
    "4. As defined in the scope, our company creates apps only for English-speaking people. We can filter out apps that have non-English characters in their app name.\n",
    "5. Installs column will be important for our analysis as it represents the number of users (see problem definition), but it contains strings with \",\" and \"+\". Let's remove those two special characters and convert them to an `int` data type."
   ]
  },
  {
   "attachments": {},
   "cell_type": "markdown",
   "metadata": {
    "datalore": {
     "hide_input_from_viewers": false,
     "hide_output_from_viewers": false,
     "node_id": "xxxYw9KRAVAVOrHaimdmGi",
     "type": "MD"
    }
   },
   "source": [
    "> **DC-1**"
   ]
  },
  {
   "cell_type": "code",
   "execution_count": 8,
   "metadata": {
    "datalore": {
     "hide_input_from_viewers": false,
     "hide_output_from_viewers": false,
     "node_id": "uiDOPWP1j8QajBluWKshin",
     "type": "CODE"
    }
   },
   "outputs": [],
   "source": [
    "def clear_col_shift(data, length):\n",
    "    dc_one = data.copy()\n",
    "    for row in dc_one:\n",
    "        if len(row) != length:\n",
    "            dc_one.remove(row)\n",
    "    return dc_one"
   ]
  },
  {
   "cell_type": "code",
   "execution_count": 9,
   "metadata": {
    "datalore": {
     "hide_input_from_viewers": false,
     "hide_output_from_viewers": false,
     "node_id": "h2rGeGiVwNAdldYAk4y1wZ",
     "type": "CODE"
    }
   },
   "outputs": [],
   "source": [
    "android = clear_col_shift(android, len(android_header))"
   ]
  },
  {
   "attachments": {},
   "cell_type": "markdown",
   "metadata": {
    "datalore": {
     "hide_input_from_viewers": false,
     "hide_output_from_viewers": false,
     "node_id": "GDK7yl9Ho5Uk2PYiUN1MTB",
     "type": "MD"
    }
   },
   "source": [
    "> **DC-2**\n",
    "> \n",
    "> Before we consider removing duplicates, first we need to check why there are duplicates to identify which duplicate to keep and which to remove.\n",
    "\n",
    "1. Let's observe some duplicates to spot any difference"
   ]
  },
  {
   "cell_type": "code",
   "execution_count": 10,
   "metadata": {
    "datalore": {
     "hide_input_from_viewers": false,
     "hide_output_from_viewers": false,
     "node_id": "YG3hvzK590NEI94ZZ3y03H",
     "type": "CODE"
    }
   },
   "outputs": [
    {
     "name": "stdout",
     "output_type": "stream",
     "text": [
      "9659\n",
      "798\n"
     ]
    }
   ],
   "source": [
    "unique_apps = []\n",
    "duplicate_apps = []\n",
    "\n",
    "for row in android:\n",
    "    app = row[an_hi['App']]\n",
    "    if app in unique_apps and app not in duplicate_apps:\n",
    "        duplicate_apps.append(app)\n",
    "    elif app not in unique_apps:\n",
    "        unique_apps.append(app)\n",
    "\n",
    "print(len(unique_apps))\n",
    "print(len(duplicate_apps))"
   ]
  },
  {
   "cell_type": "code",
   "execution_count": 11,
   "metadata": {
    "datalore": {
     "hide_input_from_viewers": false,
     "hide_output_from_viewers": false,
     "node_id": "HvFtHF0VkBYBjvVdapmzIr",
     "type": "CODE"
    }
   },
   "outputs": [
    {
     "name": "stdout",
     "output_type": "stream",
     "text": [
      "['App', 'Category', 'Rating', 'Reviews', 'Size', 'Installs', 'Type', 'Price', 'Content Rating', 'Genres', 'Last Updated', 'Current Ver', 'Android Ver']\n",
      "\n",
      "\n",
      "['Slack', 'BUSINESS', '4.4', '51507', 'Varies with device', '5,000,000+', 'Free', '0', 'Everyone', 'Business', 'August 2, 2018', 'Varies with device', 'Varies with device']\n",
      "['Slack', 'BUSINESS', '4.4', '51507', 'Varies with device', '5,000,000+', 'Free', '0', 'Everyone', 'Business', 'August 2, 2018', 'Varies with device', 'Varies with device']\n",
      "['Slack', 'BUSINESS', '4.4', '51510', 'Varies with device', '5,000,000+', 'Free', '0', 'Everyone', 'Business', 'August 2, 2018', 'Varies with device', 'Varies with device']\n",
      "['AAFP', 'MEDICAL', '3.8', '63', '24M', '10,000+', 'Free', '0', 'Everyone', 'Medical', 'June 22, 2018', '2.3.1', '5.0 and up']\n",
      "['AAFP', 'MEDICAL', '3.8', '63', '24M', '10,000+', 'Free', '0', 'Everyone', 'Medical', 'June 22, 2018', '2.3.1', '5.0 and up']\n"
     ]
    }
   ],
   "source": [
    "print(android_header)\n",
    "print('\\n')\n",
    "for row in android:\n",
    "    app = row[an_hi['App']]\n",
    "    if app == duplicate_apps[7] or app == duplicate_apps[-1]:\n",
    "        print(row)"
   ]
  },
  {
   "attachments": {},
   "cell_type": "markdown",
   "metadata": {
    "datalore": {
     "hide_input_from_viewers": false,
     "hide_output_from_viewers": false,
     "node_id": "aYOKjpsEcUuxy3RKySlFGv",
     "type": "MD"
    }
   },
   "source": [
    "As we can see, the rows are almost similar except for the 'Reviews' column, which has sometimes slightly higher value. This is an observation based on small snapshot of the data, but it won't be a surprise to see a much higher value if the data of duplicate snapshots is different.\n",
    "\n",
    "Keeping this in mind, along with the fact that more reviews is equal to more users, we will keep the duplicate rows with the highest reviews and delete all others."
   ]
  },
  {
   "cell_type": "code",
   "execution_count": 12,
   "metadata": {
    "datalore": {
     "hide_input_from_viewers": false,
     "hide_output_from_viewers": false,
     "node_id": "LTudZY6Ng8BiCZDARKOt9W",
     "type": "CODE"
    }
   },
   "outputs": [
    {
     "name": "stdout",
     "output_type": "stream",
     "text": [
      "Time taken by Test 1: 0.111777\n"
     ]
    }
   ],
   "source": [
    "# Approach 1 86.42% faster than approach 2 from Dataquest\n",
    "import time\n",
    "t1 = time.time()\n",
    "# Create a list of duplicate with highest reviews count\n",
    "duplicate_most = {}\n",
    "for row in android:\n",
    "    app = row[an_hi['App']]\n",
    "    if app in duplicate_apps:\n",
    "        if app in duplicate_most:\n",
    "            if duplicate_most[app] < int(row[an_hi['Reviews']]):\n",
    "                duplicate_most[app] = int(row[an_hi['Reviews']])\n",
    "        else:\n",
    "            duplicate_most[app] = int(row[an_hi['Reviews']])\n",
    "\n",
    "dsp2 = []\n",
    "added_apps = []\n",
    "for row in android:\n",
    "    app = row[an_hi['App']]\n",
    "    reviews = int(row[an_hi['Reviews']])\n",
    "    if app in duplicate_most:\n",
    "        if reviews == duplicate_most[app] and app not in added_apps:\n",
    "            added_apps.append(app)\n",
    "            dsp2.append(row)\n",
    "    else:\n",
    "        dsp2.append(row)\n",
    "\n",
    "t2 = time.time()\n",
    "\n",
    "print(\"Time taken by Test 1: %.6f\" %(t2 - t1))"
   ]
  },
  {
   "cell_type": "code",
   "execution_count": 13,
   "metadata": {
    "datalore": {
     "hide_input_from_viewers": false,
     "hide_output_from_viewers": false,
     "node_id": "zLMprpnrzdhNDwQtxE9HTl",
     "type": "CODE"
    }
   },
   "outputs": [],
   "source": [
    "# Aproach 2\n",
    "# t1 = time.time()\n",
    "\n",
    "# reviews_max = {}\n",
    "\n",
    "# for app in android:\n",
    "#     name = app[0]\n",
    "#     n_reviews = float(app[3])\n",
    "    \n",
    "#     if name in reviews_max and reviews_max[name] < n_reviews:\n",
    "#         reviews_max[name] = n_reviews\n",
    "        \n",
    "#     elif name not in reviews_max:\n",
    "#         reviews_max[name] = n_reviews\n",
    "\n",
    "# android_clean = []\n",
    "# already_added = []\n",
    "\n",
    "# for app in android:\n",
    "#     name = app[0]\n",
    "#     n_reviews = float(app[3])\n",
    "    \n",
    "#     if (reviews_max[name] == n_reviews) and (name not in already_added):\n",
    "#         android_clean.append(app)\n",
    "#         already_added.append(name) # make sure this is inside the if block\n",
    "\n",
    "# t2 = time.time()\n",
    "\n",
    "# print(\"Time taken by Test 2: %.6f\" %(t2 - t1))"
   ]
  },
  {
   "cell_type": "code",
   "execution_count": 14,
   "metadata": {
    "datalore": {
     "hide_input_from_viewers": false,
     "hide_output_from_viewers": false,
     "node_id": "FeCVxA6h7okFpJpjuV6Q8v",
     "type": "CODE"
    }
   },
   "outputs": [],
   "source": [
    "android = dsp2"
   ]
  },
  {
   "attachments": {},
   "cell_type": "markdown",
   "metadata": {
    "datalore": {
     "hide_input_from_viewers": false,
     "hide_output_from_viewers": false,
     "node_id": "UutvLr1HbvZi383vP4msqt",
     "type": "MD"
    }
   },
   "source": [
    "> **DC-3**\n",
    ">\n",
    "> As defined in the scope, our company only develops free apps. We can eliminate all paid apps from the data."
   ]
  },
  {
   "cell_type": "code",
   "execution_count": 15,
   "metadata": {
    "datalore": {
     "hide_input_from_viewers": false,
     "hide_output_from_viewers": false,
     "node_id": "I2FnS36l2OibdUIWnGVz90",
     "type": "CODE"
    }
   },
   "outputs": [],
   "source": [
    "free_apps = []\n",
    "\n",
    "for row in android:\n",
    "    if row[an_hi['Type']] == 'Free':\n",
    "        free_apps.append(row)\n",
    "\n",
    "android = free_apps"
   ]
  },
  {
   "attachments": {},
   "cell_type": "markdown",
   "metadata": {
    "datalore": {
     "hide_input_from_viewers": false,
     "hide_output_from_viewers": false,
     "node_id": "ajH4S3usseJ6AbUVio5lRS",
     "type": "MD"
    }
   },
   "source": [
    "> **DC-4**\n",
    "> \n",
    "> As defined in the scope, our company creates apps only for English-speaking people. We can filter out apps that have non-English characters in their app name."
   ]
  },
  {
   "cell_type": "code",
   "execution_count": 16,
   "metadata": {
    "datalore": {
     "hide_input_from_viewers": false,
     "hide_output_from_viewers": false,
     "node_id": "lhcItCUSMKCgyQxdWH48Mc",
     "type": "CODE"
    }
   },
   "outputs": [
    {
     "data": {
      "text/html": [
       "<div>\n",
       "<style scoped>\n",
       "    .dataframe tbody tr th:only-of-type {\n",
       "        vertical-align: middle;\n",
       "    }\n",
       "\n",
       "    .dataframe tbody tr th {\n",
       "        vertical-align: top;\n",
       "    }\n",
       "\n",
       "    .dataframe thead th {\n",
       "        text-align: right;\n",
       "    }\n",
       "</style>\n",
       "<table border=\"1\" class=\"dataframe\">\n",
       "  <thead>\n",
       "    <tr style=\"text-align: right;\">\n",
       "      <th></th>\n",
       "      <th>App</th>\n",
       "      <th>Category</th>\n",
       "      <th>Rating</th>\n",
       "      <th>Reviews</th>\n",
       "      <th>Size</th>\n",
       "      <th>Installs</th>\n",
       "      <th>Type</th>\n",
       "      <th>Price</th>\n",
       "      <th>Content Rating</th>\n",
       "      <th>Genres</th>\n",
       "      <th>Last Updated</th>\n",
       "      <th>Current Ver</th>\n",
       "      <th>Android Ver</th>\n",
       "    </tr>\n",
       "  </thead>\n",
       "  <tbody>\n",
       "    <tr>\n",
       "      <th>0</th>\n",
       "      <td>Photo Editor &amp; Candy Camera &amp; Grid &amp; ScrapBook</td>\n",
       "      <td>ART_AND_DESIGN</td>\n",
       "      <td>4.1</td>\n",
       "      <td>159</td>\n",
       "      <td>19M</td>\n",
       "      <td>10,000+</td>\n",
       "      <td>Free</td>\n",
       "      <td>0</td>\n",
       "      <td>Everyone</td>\n",
       "      <td>Art &amp; Design</td>\n",
       "      <td>January 7, 2018</td>\n",
       "      <td>1.0.0</td>\n",
       "      <td>4.0.3 and up</td>\n",
       "    </tr>\n",
       "    <tr>\n",
       "      <th>1</th>\n",
       "      <td>U Launcher Lite – FREE Live Cool Themes, Hide ...</td>\n",
       "      <td>ART_AND_DESIGN</td>\n",
       "      <td>4.7</td>\n",
       "      <td>87510</td>\n",
       "      <td>8.7M</td>\n",
       "      <td>5,000,000+</td>\n",
       "      <td>Free</td>\n",
       "      <td>0</td>\n",
       "      <td>Everyone</td>\n",
       "      <td>Art &amp; Design</td>\n",
       "      <td>August 1, 2018</td>\n",
       "      <td>1.2.4</td>\n",
       "      <td>4.0.3 and up</td>\n",
       "    </tr>\n",
       "    <tr>\n",
       "      <th>2</th>\n",
       "      <td>Sketch - Draw &amp; Paint</td>\n",
       "      <td>ART_AND_DESIGN</td>\n",
       "      <td>4.5</td>\n",
       "      <td>215644</td>\n",
       "      <td>25M</td>\n",
       "      <td>50,000,000+</td>\n",
       "      <td>Free</td>\n",
       "      <td>0</td>\n",
       "      <td>Teen</td>\n",
       "      <td>Art &amp; Design</td>\n",
       "      <td>June 8, 2018</td>\n",
       "      <td>Varies with device</td>\n",
       "      <td>4.2 and up</td>\n",
       "    </tr>\n",
       "    <tr>\n",
       "      <th>3</th>\n",
       "      <td>Pixel Draw - Number Art Coloring Book</td>\n",
       "      <td>ART_AND_DESIGN</td>\n",
       "      <td>4.3</td>\n",
       "      <td>967</td>\n",
       "      <td>2.8M</td>\n",
       "      <td>100,000+</td>\n",
       "      <td>Free</td>\n",
       "      <td>0</td>\n",
       "      <td>Everyone</td>\n",
       "      <td>Art &amp; Design;Creativity</td>\n",
       "      <td>June 20, 2018</td>\n",
       "      <td>1.1</td>\n",
       "      <td>4.4 and up</td>\n",
       "    </tr>\n",
       "    <tr>\n",
       "      <th>4</th>\n",
       "      <td>Paper flowers instructions</td>\n",
       "      <td>ART_AND_DESIGN</td>\n",
       "      <td>4.4</td>\n",
       "      <td>167</td>\n",
       "      <td>5.6M</td>\n",
       "      <td>50,000+</td>\n",
       "      <td>Free</td>\n",
       "      <td>0</td>\n",
       "      <td>Everyone</td>\n",
       "      <td>Art &amp; Design</td>\n",
       "      <td>March 26, 2017</td>\n",
       "      <td>1.0</td>\n",
       "      <td>2.3 and up</td>\n",
       "    </tr>\n",
       "    <tr>\n",
       "      <th>...</th>\n",
       "      <td>...</td>\n",
       "      <td>...</td>\n",
       "      <td>...</td>\n",
       "      <td>...</td>\n",
       "      <td>...</td>\n",
       "      <td>...</td>\n",
       "      <td>...</td>\n",
       "      <td>...</td>\n",
       "      <td>...</td>\n",
       "      <td>...</td>\n",
       "      <td>...</td>\n",
       "      <td>...</td>\n",
       "      <td>...</td>\n",
       "    </tr>\n",
       "    <tr>\n",
       "      <th>8899</th>\n",
       "      <td>Sya9a Maroc - FR</td>\n",
       "      <td>FAMILY</td>\n",
       "      <td>4.5</td>\n",
       "      <td>38</td>\n",
       "      <td>53M</td>\n",
       "      <td>5,000+</td>\n",
       "      <td>Free</td>\n",
       "      <td>0</td>\n",
       "      <td>Everyone</td>\n",
       "      <td>Education</td>\n",
       "      <td>July 25, 2017</td>\n",
       "      <td>1.48</td>\n",
       "      <td>4.1 and up</td>\n",
       "    </tr>\n",
       "    <tr>\n",
       "      <th>8900</th>\n",
       "      <td>Fr. Mike Schmitz Audio Teachings</td>\n",
       "      <td>FAMILY</td>\n",
       "      <td>5.0</td>\n",
       "      <td>4</td>\n",
       "      <td>3.6M</td>\n",
       "      <td>100+</td>\n",
       "      <td>Free</td>\n",
       "      <td>0</td>\n",
       "      <td>Everyone</td>\n",
       "      <td>Education</td>\n",
       "      <td>July 6, 2018</td>\n",
       "      <td>1.0</td>\n",
       "      <td>4.1 and up</td>\n",
       "    </tr>\n",
       "    <tr>\n",
       "      <th>8901</th>\n",
       "      <td>Parkinson Exercices FR</td>\n",
       "      <td>MEDICAL</td>\n",
       "      <td>NaN</td>\n",
       "      <td>3</td>\n",
       "      <td>9.5M</td>\n",
       "      <td>1,000+</td>\n",
       "      <td>Free</td>\n",
       "      <td>0</td>\n",
       "      <td>Everyone</td>\n",
       "      <td>Medical</td>\n",
       "      <td>January 20, 2017</td>\n",
       "      <td>1.0</td>\n",
       "      <td>2.2 and up</td>\n",
       "    </tr>\n",
       "    <tr>\n",
       "      <th>8902</th>\n",
       "      <td>The SCP Foundation DB fr nn5n</td>\n",
       "      <td>BOOKS_AND_REFERENCE</td>\n",
       "      <td>4.5</td>\n",
       "      <td>114</td>\n",
       "      <td>Varies with device</td>\n",
       "      <td>1,000+</td>\n",
       "      <td>Free</td>\n",
       "      <td>0</td>\n",
       "      <td>Mature 17+</td>\n",
       "      <td>Books &amp; Reference</td>\n",
       "      <td>January 19, 2015</td>\n",
       "      <td>Varies with device</td>\n",
       "      <td>Varies with device</td>\n",
       "    </tr>\n",
       "    <tr>\n",
       "      <th>8903</th>\n",
       "      <td>iHoroscope - 2018 Daily Horoscope &amp; Astrology</td>\n",
       "      <td>LIFESTYLE</td>\n",
       "      <td>4.5</td>\n",
       "      <td>398307</td>\n",
       "      <td>19M</td>\n",
       "      <td>10,000,000+</td>\n",
       "      <td>Free</td>\n",
       "      <td>0</td>\n",
       "      <td>Everyone</td>\n",
       "      <td>Lifestyle</td>\n",
       "      <td>July 25, 2018</td>\n",
       "      <td>Varies with device</td>\n",
       "      <td>Varies with device</td>\n",
       "    </tr>\n",
       "  </tbody>\n",
       "</table>\n",
       "<p>8904 rows × 13 columns</p>\n",
       "</div>"
      ],
      "text/plain": [
       "                                                    App             Category  \\\n",
       "0        Photo Editor & Candy Camera & Grid & ScrapBook       ART_AND_DESIGN   \n",
       "1     U Launcher Lite – FREE Live Cool Themes, Hide ...       ART_AND_DESIGN   \n",
       "2                                 Sketch - Draw & Paint       ART_AND_DESIGN   \n",
       "3                 Pixel Draw - Number Art Coloring Book       ART_AND_DESIGN   \n",
       "4                            Paper flowers instructions       ART_AND_DESIGN   \n",
       "...                                                 ...                  ...   \n",
       "8899                                   Sya9a Maroc - FR               FAMILY   \n",
       "8900                   Fr. Mike Schmitz Audio Teachings               FAMILY   \n",
       "8901                             Parkinson Exercices FR              MEDICAL   \n",
       "8902                      The SCP Foundation DB fr nn5n  BOOKS_AND_REFERENCE   \n",
       "8903      iHoroscope - 2018 Daily Horoscope & Astrology            LIFESTYLE   \n",
       "\n",
       "     Rating Reviews                Size     Installs  Type Price  \\\n",
       "0       4.1     159                 19M      10,000+  Free     0   \n",
       "1       4.7   87510                8.7M   5,000,000+  Free     0   \n",
       "2       4.5  215644                 25M  50,000,000+  Free     0   \n",
       "3       4.3     967                2.8M     100,000+  Free     0   \n",
       "4       4.4     167                5.6M      50,000+  Free     0   \n",
       "...     ...     ...                 ...          ...   ...   ...   \n",
       "8899    4.5      38                 53M       5,000+  Free     0   \n",
       "8900    5.0       4                3.6M         100+  Free     0   \n",
       "8901    NaN       3                9.5M       1,000+  Free     0   \n",
       "8902    4.5     114  Varies with device       1,000+  Free     0   \n",
       "8903    4.5  398307                 19M  10,000,000+  Free     0   \n",
       "\n",
       "     Content Rating                   Genres      Last Updated  \\\n",
       "0          Everyone             Art & Design   January 7, 2018   \n",
       "1          Everyone             Art & Design    August 1, 2018   \n",
       "2              Teen             Art & Design      June 8, 2018   \n",
       "3          Everyone  Art & Design;Creativity     June 20, 2018   \n",
       "4          Everyone             Art & Design    March 26, 2017   \n",
       "...             ...                      ...               ...   \n",
       "8899       Everyone                Education     July 25, 2017   \n",
       "8900       Everyone                Education      July 6, 2018   \n",
       "8901       Everyone                  Medical  January 20, 2017   \n",
       "8902     Mature 17+        Books & Reference  January 19, 2015   \n",
       "8903       Everyone                Lifestyle     July 25, 2018   \n",
       "\n",
       "             Current Ver         Android Ver  \n",
       "0                  1.0.0        4.0.3 and up  \n",
       "1                  1.2.4        4.0.3 and up  \n",
       "2     Varies with device          4.2 and up  \n",
       "3                    1.1          4.4 and up  \n",
       "4                    1.0          2.3 and up  \n",
       "...                  ...                 ...  \n",
       "8899                1.48          4.1 and up  \n",
       "8900                 1.0          4.1 and up  \n",
       "8901                 1.0          2.2 and up  \n",
       "8902  Varies with device  Varies with device  \n",
       "8903  Varies with device  Varies with device  \n",
       "\n",
       "[8904 rows x 13 columns]"
      ]
     },
     "execution_count": 16,
     "metadata": {},
     "output_type": "execute_result"
    }
   ],
   "source": [
    "# First let look at the data by sorting the app name field in ascending order, check both head and tail\n",
    "pd.DataFrame(android, columns=android_header)"
   ]
  },
  {
   "attachments": {},
   "cell_type": "markdown",
   "metadata": {
    "datalore": {
     "hide_input_from_viewers": false,
     "hide_output_from_viewers": false,
     "node_id": "Z2r8P4UcqabJ4UsJgow00t",
     "type": "MD"
    }
   },
   "source": [
    "There are many apps with names that contain non-english characters. For example, other language characters, special characters, and emojis.\n",
    "\n",
    "English text usually includes letters from the English alphabet, numbers composed of digits from 0 to 9, punctuation marks (., !, ?, ;), and other symbols (+, *, /)\n",
    "\n",
    "Each character we use in a string has a corresponding number associated with it. For instance, the corresponding number for character 'a' is 97, character `'A'` is 65, and character `'爱'` is 29,233. We can get the corresponding number of each character using the `ord()` [built-in function](https://docs.python.org/3/library/functions.html#ord)."
   ]
  },
  {
   "cell_type": "code",
   "execution_count": 17,
   "metadata": {
    "datalore": {
     "hide_input_from_viewers": false,
     "hide_output_from_viewers": false,
     "node_id": "pbjcpagSpovNbHRiFoEYy5",
     "type": "CODE"
    }
   },
   "outputs": [
    {
     "name": "stdout",
     "output_type": "stream",
     "text": [
      "97\n"
     ]
    }
   ],
   "source": [
    "print(ord(\"a\"))"
   ]
  },
  {
   "attachments": {},
   "cell_type": "markdown",
   "metadata": {
    "datalore": {
     "hide_input_from_viewers": false,
     "hide_output_from_viewers": false,
     "node_id": "tH0jT4cjVx9jsVOrFVuUBi",
     "type": "MD"
    }
   },
   "source": [
    "The numbers corresponding to the characters we commonly use in an English text are all in the range `0 to 127`, according to the [ASCII](https://en.wikipedia.org/wiki/ASCII#Printable_characters) (American Standard Code for Information Interchange) system. Based on this number range, we can build a function that detects whether a character belongs to the set of common English characters or not. If the number is equal to or less than 127, then the character belongs to the set of common English characters.\n",
    "\n",
    "If we're going to simply filter out name based on this approach, then we'll lose useful data since many English apps will be incorrectly labeled as non-English. To minimize the impact of data loss, we'll only remove an app if its name has more than three characters with corresponding numbers falling outside the ASCII range. This means all English apps with up to three emojis or other special characters will still be labeled as English. Our filter function is still not perfect, but it should be fairly effective."
   ]
  },
  {
   "cell_type": "code",
   "execution_count": 18,
   "metadata": {
    "datalore": {
     "hide_input_from_viewers": false,
     "hide_output_from_viewers": false,
     "node_id": "wtmL2nVpgS0yduQRVJ1VN1",
     "type": "CODE"
    }
   },
   "outputs": [],
   "source": [
    "def is_english(name):\n",
    "    non_ascii = 0\n",
    "    for char in name:\n",
    "        if ord(char) > 127:\n",
    "            non_ascii += 1\n",
    "    \n",
    "    if non_ascii > 3:\n",
    "        return False\n",
    "    else:\n",
    "        return True"
   ]
  },
  {
   "cell_type": "code",
   "execution_count": 19,
   "metadata": {
    "datalore": {
     "hide_input_from_viewers": false,
     "hide_output_from_viewers": false,
     "node_id": "H0hkktY1qDlkEeU4kjHuKi",
     "type": "CODE"
    }
   },
   "outputs": [],
   "source": [
    "english_apps = []\n",
    "\n",
    "for row in android:\n",
    "    app = row[an_hi['App']]\n",
    "    if is_english(app):\n",
    "        english_apps.append(row)\n",
    "\n",
    "android = english_apps"
   ]
  },
  {
   "attachments": {},
   "cell_type": "markdown",
   "metadata": {
    "datalore": {
     "hide_input_from_viewers": false,
     "hide_output_from_viewers": false,
     "node_id": "gqXofixSO3nxmbfn45uglp",
     "type": "MD"
    }
   },
   "source": [
    "> **DC-5**\n",
    "> \n",
    "> **Installs** column will be important for our analysis as it represents the number of users (see problem definition), but it contains strings with `\",\"` and `\"+\"`. Let's remove those two special characters and convert them to an int data type."
   ]
  },
  {
   "cell_type": "code",
   "execution_count": 20,
   "metadata": {
    "datalore": {
     "hide_input_from_viewers": false,
     "hide_output_from_viewers": false,
     "node_id": "8wH8k2m9K7pP01PHY2bXzS",
     "type": "CODE"
    }
   },
   "outputs": [],
   "source": [
    "dc_5 = []\n",
    "\n",
    "for row in android:\n",
    "    installs = row[an_hi['Installs']]\n",
    "\n",
    "    # convert installs to int\n",
    "    installs = int(installs.replace('+', '').replace(',', ''))\n",
    "\n",
    "    n_row = row.copy()\n",
    "    n_row[an_hi['Installs']] = installs\n",
    "\n",
    "    dc_5.append(n_row)\n",
    "\n",
    "android = dc_5"
   ]
  },
  {
   "attachments": {},
   "cell_type": "markdown",
   "metadata": {
    "datalore": {
     "hide_input_from_viewers": false,
     "hide_output_from_viewers": false,
     "node_id": "n8yOobSk8YUheV77T1y3RW",
     "type": "MD"
    }
   },
   "source": [
    "## 4. Data Exploration"
   ]
  },
  {
   "cell_type": "code",
   "execution_count": 21,
   "metadata": {
    "datalore": {
     "hide_input_from_viewers": false,
     "hide_output_from_viewers": false,
     "node_id": "cBoCBog0Vp3S79wNcLnzsR",
     "type": "CODE"
    }
   },
   "outputs": [
    {
     "data": {
      "text/html": [
       "<div>\n",
       "<style scoped>\n",
       "    .dataframe tbody tr th:only-of-type {\n",
       "        vertical-align: middle;\n",
       "    }\n",
       "\n",
       "    .dataframe tbody tr th {\n",
       "        vertical-align: top;\n",
       "    }\n",
       "\n",
       "    .dataframe thead th {\n",
       "        text-align: right;\n",
       "    }\n",
       "</style>\n",
       "<table border=\"1\" class=\"dataframe\">\n",
       "  <thead>\n",
       "    <tr style=\"text-align: right;\">\n",
       "      <th></th>\n",
       "      <th>App</th>\n",
       "      <th>Category</th>\n",
       "      <th>Rating</th>\n",
       "      <th>Reviews</th>\n",
       "      <th>Size</th>\n",
       "      <th>Installs</th>\n",
       "      <th>Type</th>\n",
       "      <th>Price</th>\n",
       "      <th>Content Rating</th>\n",
       "      <th>Genres</th>\n",
       "      <th>Last Updated</th>\n",
       "      <th>Current Ver</th>\n",
       "      <th>Android Ver</th>\n",
       "    </tr>\n",
       "  </thead>\n",
       "  <tbody>\n",
       "    <tr>\n",
       "      <th>0</th>\n",
       "      <td>Photo Editor &amp; Candy Camera &amp; Grid &amp; ScrapBook</td>\n",
       "      <td>ART_AND_DESIGN</td>\n",
       "      <td>4.1</td>\n",
       "      <td>159</td>\n",
       "      <td>19M</td>\n",
       "      <td>10000</td>\n",
       "      <td>Free</td>\n",
       "      <td>0</td>\n",
       "      <td>Everyone</td>\n",
       "      <td>Art &amp; Design</td>\n",
       "      <td>January 7, 2018</td>\n",
       "      <td>1.0.0</td>\n",
       "      <td>4.0.3 and up</td>\n",
       "    </tr>\n",
       "    <tr>\n",
       "      <th>1</th>\n",
       "      <td>U Launcher Lite – FREE Live Cool Themes, Hide ...</td>\n",
       "      <td>ART_AND_DESIGN</td>\n",
       "      <td>4.7</td>\n",
       "      <td>87510</td>\n",
       "      <td>8.7M</td>\n",
       "      <td>5000000</td>\n",
       "      <td>Free</td>\n",
       "      <td>0</td>\n",
       "      <td>Everyone</td>\n",
       "      <td>Art &amp; Design</td>\n",
       "      <td>August 1, 2018</td>\n",
       "      <td>1.2.4</td>\n",
       "      <td>4.0.3 and up</td>\n",
       "    </tr>\n",
       "    <tr>\n",
       "      <th>2</th>\n",
       "      <td>Sketch - Draw &amp; Paint</td>\n",
       "      <td>ART_AND_DESIGN</td>\n",
       "      <td>4.5</td>\n",
       "      <td>215644</td>\n",
       "      <td>25M</td>\n",
       "      <td>50000000</td>\n",
       "      <td>Free</td>\n",
       "      <td>0</td>\n",
       "      <td>Teen</td>\n",
       "      <td>Art &amp; Design</td>\n",
       "      <td>June 8, 2018</td>\n",
       "      <td>Varies with device</td>\n",
       "      <td>4.2 and up</td>\n",
       "    </tr>\n",
       "    <tr>\n",
       "      <th>3</th>\n",
       "      <td>Pixel Draw - Number Art Coloring Book</td>\n",
       "      <td>ART_AND_DESIGN</td>\n",
       "      <td>4.3</td>\n",
       "      <td>967</td>\n",
       "      <td>2.8M</td>\n",
       "      <td>100000</td>\n",
       "      <td>Free</td>\n",
       "      <td>0</td>\n",
       "      <td>Everyone</td>\n",
       "      <td>Art &amp; Design;Creativity</td>\n",
       "      <td>June 20, 2018</td>\n",
       "      <td>1.1</td>\n",
       "      <td>4.4 and up</td>\n",
       "    </tr>\n",
       "    <tr>\n",
       "      <th>4</th>\n",
       "      <td>Paper flowers instructions</td>\n",
       "      <td>ART_AND_DESIGN</td>\n",
       "      <td>4.4</td>\n",
       "      <td>167</td>\n",
       "      <td>5.6M</td>\n",
       "      <td>50000</td>\n",
       "      <td>Free</td>\n",
       "      <td>0</td>\n",
       "      <td>Everyone</td>\n",
       "      <td>Art &amp; Design</td>\n",
       "      <td>March 26, 2017</td>\n",
       "      <td>1.0</td>\n",
       "      <td>2.3 and up</td>\n",
       "    </tr>\n",
       "    <tr>\n",
       "      <th>...</th>\n",
       "      <td>...</td>\n",
       "      <td>...</td>\n",
       "      <td>...</td>\n",
       "      <td>...</td>\n",
       "      <td>...</td>\n",
       "      <td>...</td>\n",
       "      <td>...</td>\n",
       "      <td>...</td>\n",
       "      <td>...</td>\n",
       "      <td>...</td>\n",
       "      <td>...</td>\n",
       "      <td>...</td>\n",
       "      <td>...</td>\n",
       "    </tr>\n",
       "    <tr>\n",
       "      <th>8858</th>\n",
       "      <td>Sya9a Maroc - FR</td>\n",
       "      <td>FAMILY</td>\n",
       "      <td>4.5</td>\n",
       "      <td>38</td>\n",
       "      <td>53M</td>\n",
       "      <td>5000</td>\n",
       "      <td>Free</td>\n",
       "      <td>0</td>\n",
       "      <td>Everyone</td>\n",
       "      <td>Education</td>\n",
       "      <td>July 25, 2017</td>\n",
       "      <td>1.48</td>\n",
       "      <td>4.1 and up</td>\n",
       "    </tr>\n",
       "    <tr>\n",
       "      <th>8859</th>\n",
       "      <td>Fr. Mike Schmitz Audio Teachings</td>\n",
       "      <td>FAMILY</td>\n",
       "      <td>5.0</td>\n",
       "      <td>4</td>\n",
       "      <td>3.6M</td>\n",
       "      <td>100</td>\n",
       "      <td>Free</td>\n",
       "      <td>0</td>\n",
       "      <td>Everyone</td>\n",
       "      <td>Education</td>\n",
       "      <td>July 6, 2018</td>\n",
       "      <td>1.0</td>\n",
       "      <td>4.1 and up</td>\n",
       "    </tr>\n",
       "    <tr>\n",
       "      <th>8860</th>\n",
       "      <td>Parkinson Exercices FR</td>\n",
       "      <td>MEDICAL</td>\n",
       "      <td>NaN</td>\n",
       "      <td>3</td>\n",
       "      <td>9.5M</td>\n",
       "      <td>1000</td>\n",
       "      <td>Free</td>\n",
       "      <td>0</td>\n",
       "      <td>Everyone</td>\n",
       "      <td>Medical</td>\n",
       "      <td>January 20, 2017</td>\n",
       "      <td>1.0</td>\n",
       "      <td>2.2 and up</td>\n",
       "    </tr>\n",
       "    <tr>\n",
       "      <th>8861</th>\n",
       "      <td>The SCP Foundation DB fr nn5n</td>\n",
       "      <td>BOOKS_AND_REFERENCE</td>\n",
       "      <td>4.5</td>\n",
       "      <td>114</td>\n",
       "      <td>Varies with device</td>\n",
       "      <td>1000</td>\n",
       "      <td>Free</td>\n",
       "      <td>0</td>\n",
       "      <td>Mature 17+</td>\n",
       "      <td>Books &amp; Reference</td>\n",
       "      <td>January 19, 2015</td>\n",
       "      <td>Varies with device</td>\n",
       "      <td>Varies with device</td>\n",
       "    </tr>\n",
       "    <tr>\n",
       "      <th>8862</th>\n",
       "      <td>iHoroscope - 2018 Daily Horoscope &amp; Astrology</td>\n",
       "      <td>LIFESTYLE</td>\n",
       "      <td>4.5</td>\n",
       "      <td>398307</td>\n",
       "      <td>19M</td>\n",
       "      <td>10000000</td>\n",
       "      <td>Free</td>\n",
       "      <td>0</td>\n",
       "      <td>Everyone</td>\n",
       "      <td>Lifestyle</td>\n",
       "      <td>July 25, 2018</td>\n",
       "      <td>Varies with device</td>\n",
       "      <td>Varies with device</td>\n",
       "    </tr>\n",
       "  </tbody>\n",
       "</table>\n",
       "<p>8863 rows × 13 columns</p>\n",
       "</div>"
      ],
      "text/plain": [
       "                                                    App             Category  \\\n",
       "0        Photo Editor & Candy Camera & Grid & ScrapBook       ART_AND_DESIGN   \n",
       "1     U Launcher Lite – FREE Live Cool Themes, Hide ...       ART_AND_DESIGN   \n",
       "2                                 Sketch - Draw & Paint       ART_AND_DESIGN   \n",
       "3                 Pixel Draw - Number Art Coloring Book       ART_AND_DESIGN   \n",
       "4                            Paper flowers instructions       ART_AND_DESIGN   \n",
       "...                                                 ...                  ...   \n",
       "8858                                   Sya9a Maroc - FR               FAMILY   \n",
       "8859                   Fr. Mike Schmitz Audio Teachings               FAMILY   \n",
       "8860                             Parkinson Exercices FR              MEDICAL   \n",
       "8861                      The SCP Foundation DB fr nn5n  BOOKS_AND_REFERENCE   \n",
       "8862      iHoroscope - 2018 Daily Horoscope & Astrology            LIFESTYLE   \n",
       "\n",
       "     Rating Reviews                Size  Installs  Type Price Content Rating  \\\n",
       "0       4.1     159                 19M     10000  Free     0       Everyone   \n",
       "1       4.7   87510                8.7M   5000000  Free     0       Everyone   \n",
       "2       4.5  215644                 25M  50000000  Free     0           Teen   \n",
       "3       4.3     967                2.8M    100000  Free     0       Everyone   \n",
       "4       4.4     167                5.6M     50000  Free     0       Everyone   \n",
       "...     ...     ...                 ...       ...   ...   ...            ...   \n",
       "8858    4.5      38                 53M      5000  Free     0       Everyone   \n",
       "8859    5.0       4                3.6M       100  Free     0       Everyone   \n",
       "8860    NaN       3                9.5M      1000  Free     0       Everyone   \n",
       "8861    4.5     114  Varies with device      1000  Free     0     Mature 17+   \n",
       "8862    4.5  398307                 19M  10000000  Free     0       Everyone   \n",
       "\n",
       "                       Genres      Last Updated         Current Ver  \\\n",
       "0                Art & Design   January 7, 2018               1.0.0   \n",
       "1                Art & Design    August 1, 2018               1.2.4   \n",
       "2                Art & Design      June 8, 2018  Varies with device   \n",
       "3     Art & Design;Creativity     June 20, 2018                 1.1   \n",
       "4                Art & Design    March 26, 2017                 1.0   \n",
       "...                       ...               ...                 ...   \n",
       "8858                Education     July 25, 2017                1.48   \n",
       "8859                Education      July 6, 2018                 1.0   \n",
       "8860                  Medical  January 20, 2017                 1.0   \n",
       "8861        Books & Reference  January 19, 2015  Varies with device   \n",
       "8862                Lifestyle     July 25, 2018  Varies with device   \n",
       "\n",
       "             Android Ver  \n",
       "0           4.0.3 and up  \n",
       "1           4.0.3 and up  \n",
       "2             4.2 and up  \n",
       "3             4.4 and up  \n",
       "4             2.3 and up  \n",
       "...                  ...  \n",
       "8858          4.1 and up  \n",
       "8859          4.1 and up  \n",
       "8860          2.2 and up  \n",
       "8861  Varies with device  \n",
       "8862  Varies with device  \n",
       "\n",
       "[8863 rows x 13 columns]"
      ]
     },
     "execution_count": 21,
     "metadata": {},
     "output_type": "execute_result"
    }
   ],
   "source": [
    "pd.DataFrame(android, columns=android_header)"
   ]
  },
  {
   "cell_type": "code",
   "execution_count": null,
   "metadata": {
    "datalore": {
     "hide_input_from_viewers": false,
     "hide_output_from_viewers": false,
     "node_id": "Pir9q37rwNm9RM0zCs1z4Q",
     "type": "CODE"
    }
   },
   "outputs": [],
   "source": []
  }
 ],
 "metadata": {
  "datalore": {
   "base_environment": "default",
   "computation_mode": "JUPYTER",
   "package_manager": "pip",
   "packages": [
    {
     "name": "ydata-profiling",
     "source": "PIP",
     "version": "4.0.0"
    }
   ],
   "version": 1
  },
  "kernelspec": {
   "display_name": "Python 3",
   "language": "python",
   "name": "python3"
  },
  "language_info": {
   "codemirror_mode": {
    "name": "ipython",
    "version": 3
   },
   "file_extension": ".py",
   "mimetype": "text/x-python",
   "name": "python",
   "nbconvert_exporter": "python",
   "pygments_lexer": "ipython3",
   "version": "3.10.4"
  },
  "widgets": {
   "application/vnd.jupyter.widget-state+json": {
    "state": {
     "01cd7df474cc44ce840371a002cc6f03": {
      "model_module": "@jupyter-widgets/controls",
      "model_module_version": "1.5.0",
      "model_name": "ProgressStyleModel",
      "state": {
       "description_width": ""
      }
     },
     "01fdd881598945a8befc5a8ba5dc4334": {
      "model_module": "@jupyter-widgets/controls",
      "model_module_version": "1.5.0",
      "model_name": "DescriptionStyleModel",
      "state": {
       "description_width": ""
      }
     },
     "0bd8ff82b47648768c69e745da0fbb73": {
      "model_module": "@jupyter-widgets/base",
      "model_module_version": "1.2.0",
      "model_name": "LayoutModel",
      "state": {}
     },
     "0db7fb9bc8de4af8a43947366f469eb6": {
      "model_module": "@jupyter-widgets/controls",
      "model_module_version": "1.5.0",
      "model_name": "HTMLModel",
      "state": {
       "layout": "IPY_MODEL_bc0978242bfc4a228ccd1ecf4d6f54e3",
       "style": "IPY_MODEL_01fdd881598945a8befc5a8ba5dc4334",
       "value": " 1/1 [00:03&lt;00:00,  3.59s/it]"
      }
     },
     "1b760030633f4b5ab3b289eb30a240ee": {
      "model_module": "@jupyter-widgets/controls",
      "model_module_version": "1.5.0",
      "model_name": "DescriptionStyleModel",
      "state": {
       "description_width": ""
      }
     },
     "1e4ca515a4d3465eb188fbb80e0620e7": {
      "model_module": "@jupyter-widgets/controls",
      "model_module_version": "1.5.0",
      "model_name": "HBoxModel",
      "state": {
       "children": [
        "IPY_MODEL_c2d7b6d3488d4cf7bcca502a605c0713",
        "IPY_MODEL_b805c076d0244f15bb9c3ce8c477c0b0",
        "IPY_MODEL_d548ceeb49d442b893b17dc81a40ed03"
       ],
       "layout": "IPY_MODEL_e1e0aa1a33dc4b64878f7f1f843d26d2"
      }
     },
     "2db81294689b453d9081391699618a4b": {
      "model_module": "@jupyter-widgets/base",
      "model_module_version": "1.2.0",
      "model_name": "LayoutModel",
      "state": {}
     },
     "2dd1672e588540e58386ca2c5e6bc466": {
      "model_module": "@jupyter-widgets/base",
      "model_module_version": "1.2.0",
      "model_name": "LayoutModel",
      "state": {}
     },
     "2fab97f11a9744bdb6180e6ef62596f3": {
      "model_module": "@jupyter-widgets/controls",
      "model_module_version": "1.5.0",
      "model_name": "HBoxModel",
      "state": {
       "children": [
        "IPY_MODEL_ef5ae0960e954aa89cbc5f467477715f",
        "IPY_MODEL_85690ac74a684eaa92e8ba895775b7c8",
        "IPY_MODEL_4916a18ee02041c79b41e6f035c05201"
       ],
       "layout": "IPY_MODEL_b54a9c77f09c4a918954b7b817e98e73"
      }
     },
     "34fd91ad8c8643ceb8686ed7d497bf0c": {
      "model_module": "@jupyter-widgets/controls",
      "model_module_version": "1.5.0",
      "model_name": "HTMLModel",
      "state": {
       "layout": "IPY_MODEL_3c6fe0fa843a4702be8d7e6fd3cf6be3",
       "style": "IPY_MODEL_e7ed6e1776ed4743aeaeb3bfcceeb01e",
       "value": "Generate report structure: 100%"
      }
     },
     "38255b656af54f61859326e696193fe9": {
      "model_module": "@jupyter-widgets/controls",
      "model_module_version": "1.5.0",
      "model_name": "DescriptionStyleModel",
      "state": {
       "description_width": ""
      }
     },
     "3aea70f0a878460f85c5d5b1b054abf1": {
      "model_module": "@jupyter-widgets/controls",
      "model_module_version": "1.5.0",
      "model_name": "HTMLModel",
      "state": {
       "layout": "IPY_MODEL_5af33c08e0804a1ca56df6000bdfd97a",
       "style": "IPY_MODEL_db8af2edfe38404393e1b0e1e2658c14",
       "value": "Export report to file: 100%"
      }
     },
     "3c6fe0fa843a4702be8d7e6fd3cf6be3": {
      "model_module": "@jupyter-widgets/base",
      "model_module_version": "1.2.0",
      "model_name": "LayoutModel",
      "state": {}
     },
     "3eb8b6f5297f40b980aeca9618fe3fa4": {
      "model_module": "@jupyter-widgets/controls",
      "model_module_version": "1.5.0",
      "model_name": "ProgressStyleModel",
      "state": {
       "description_width": ""
      }
     },
     "4916a18ee02041c79b41e6f035c05201": {
      "model_module": "@jupyter-widgets/controls",
      "model_module_version": "1.5.0",
      "model_name": "HTMLModel",
      "state": {
       "layout": "IPY_MODEL_2dd1672e588540e58386ca2c5e6bc466",
       "style": "IPY_MODEL_5a081be7b01040f4b8ea11fa2634fbce",
       "value": " 1/1 [00:11&lt;00:00, 11.20s/it]"
      }
     },
     "510b1ac01d2c4d878d15dc0900eda19e": {
      "model_module": "@jupyter-widgets/controls",
      "model_module_version": "1.5.0",
      "model_name": "HBoxModel",
      "state": {
       "children": [
        "IPY_MODEL_34fd91ad8c8643ceb8686ed7d497bf0c",
        "IPY_MODEL_e6c448df00a9430693081bc9c20dcf4f",
        "IPY_MODEL_0db7fb9bc8de4af8a43947366f469eb6"
       ],
       "layout": "IPY_MODEL_6974472a7ed742859c0fa9b3af0b6bb6"
      }
     },
     "5a081be7b01040f4b8ea11fa2634fbce": {
      "model_module": "@jupyter-widgets/controls",
      "model_module_version": "1.5.0",
      "model_name": "DescriptionStyleModel",
      "state": {
       "description_width": ""
      }
     },
     "5af33c08e0804a1ca56df6000bdfd97a": {
      "model_module": "@jupyter-widgets/base",
      "model_module_version": "1.2.0",
      "model_name": "LayoutModel",
      "state": {}
     },
     "5bac91958949461e82bb5aa277c12603": {
      "model_module": "@jupyter-widgets/controls",
      "model_module_version": "1.5.0",
      "model_name": "HBoxModel",
      "state": {
       "children": [
        "IPY_MODEL_3aea70f0a878460f85c5d5b1b054abf1",
        "IPY_MODEL_998a99fa8157487ab4efcd984a270454",
        "IPY_MODEL_995fb02efedd4080964fc18583951527"
       ],
       "layout": "IPY_MODEL_71f104483e604fbe91a894affb5233b1"
      }
     },
     "6974472a7ed742859c0fa9b3af0b6bb6": {
      "model_module": "@jupyter-widgets/base",
      "model_module_version": "1.2.0",
      "model_name": "LayoutModel",
      "state": {}
     },
     "69ff3a98ced3486d971a61c0d61ae13b": {
      "model_module": "@jupyter-widgets/controls",
      "model_module_version": "1.5.0",
      "model_name": "DescriptionStyleModel",
      "state": {
       "description_width": ""
      }
     },
     "71f104483e604fbe91a894affb5233b1": {
      "model_module": "@jupyter-widgets/base",
      "model_module_version": "1.2.0",
      "model_name": "LayoutModel",
      "state": {}
     },
     "7a031c67b8af4d41b6b7b66bcd8aaa69": {
      "model_module": "@jupyter-widgets/base",
      "model_module_version": "1.2.0",
      "model_name": "LayoutModel",
      "state": {}
     },
     "7f34ba8997144c0cb175486c14527404": {
      "model_module": "@jupyter-widgets/base",
      "model_module_version": "1.2.0",
      "model_name": "LayoutModel",
      "state": {}
     },
     "85690ac74a684eaa92e8ba895775b7c8": {
      "model_module": "@jupyter-widgets/controls",
      "model_module_version": "1.5.0",
      "model_name": "FloatProgressModel",
      "state": {
       "bar_style": "success",
       "layout": "IPY_MODEL_7f34ba8997144c0cb175486c14527404",
       "max": 1,
       "style": "IPY_MODEL_3eb8b6f5297f40b980aeca9618fe3fa4",
       "value": 1
      }
     },
     "995fb02efedd4080964fc18583951527": {
      "model_module": "@jupyter-widgets/controls",
      "model_module_version": "1.5.0",
      "model_name": "HTMLModel",
      "state": {
       "layout": "IPY_MODEL_9deb57682b4943548473b94a9d01e469",
       "style": "IPY_MODEL_69ff3a98ced3486d971a61c0d61ae13b",
       "value": " 1/1 [00:00&lt;00:00, 14.96it/s]"
      }
     },
     "998a99fa8157487ab4efcd984a270454": {
      "model_module": "@jupyter-widgets/controls",
      "model_module_version": "1.5.0",
      "model_name": "FloatProgressModel",
      "state": {
       "bar_style": "success",
       "layout": "IPY_MODEL_c03dddf04d404bbeb597c5a53ab7a99a",
       "max": 1,
       "style": "IPY_MODEL_01cd7df474cc44ce840371a002cc6f03",
       "value": 1
      }
     },
     "9deb57682b4943548473b94a9d01e469": {
      "model_module": "@jupyter-widgets/base",
      "model_module_version": "1.2.0",
      "model_name": "LayoutModel",
      "state": {}
     },
     "aec37ce038544b12b98206c6e134c015": {
      "model_module": "@jupyter-widgets/base",
      "model_module_version": "1.2.0",
      "model_name": "LayoutModel",
      "state": {}
     },
     "b54a9c77f09c4a918954b7b817e98e73": {
      "model_module": "@jupyter-widgets/base",
      "model_module_version": "1.2.0",
      "model_name": "LayoutModel",
      "state": {}
     },
     "b805c076d0244f15bb9c3ce8c477c0b0": {
      "model_module": "@jupyter-widgets/controls",
      "model_module_version": "1.5.0",
      "model_name": "FloatProgressModel",
      "state": {
       "bar_style": "success",
       "layout": "IPY_MODEL_7a031c67b8af4d41b6b7b66bcd8aaa69",
       "max": 5,
       "style": "IPY_MODEL_c46bd6fd1bee4cecaef515e733f990a1",
       "value": 5
      }
     },
     "bc0978242bfc4a228ccd1ecf4d6f54e3": {
      "model_module": "@jupyter-widgets/base",
      "model_module_version": "1.2.0",
      "model_name": "LayoutModel",
      "state": {}
     },
     "c03dddf04d404bbeb597c5a53ab7a99a": {
      "model_module": "@jupyter-widgets/base",
      "model_module_version": "1.2.0",
      "model_name": "LayoutModel",
      "state": {}
     },
     "c2d7b6d3488d4cf7bcca502a605c0713": {
      "model_module": "@jupyter-widgets/controls",
      "model_module_version": "1.5.0",
      "model_name": "HTMLModel",
      "state": {
       "layout": "IPY_MODEL_2db81294689b453d9081391699618a4b",
       "style": "IPY_MODEL_c976c686ad174af087e3d5e006f8db9c",
       "value": "Summarize dataset: 100%"
      }
     },
     "c46bd6fd1bee4cecaef515e733f990a1": {
      "model_module": "@jupyter-widgets/controls",
      "model_module_version": "1.5.0",
      "model_name": "ProgressStyleModel",
      "state": {
       "description_width": ""
      }
     },
     "c976c686ad174af087e3d5e006f8db9c": {
      "model_module": "@jupyter-widgets/controls",
      "model_module_version": "1.5.0",
      "model_name": "DescriptionStyleModel",
      "state": {
       "description_width": ""
      }
     },
     "d548ceeb49d442b893b17dc81a40ed03": {
      "model_module": "@jupyter-widgets/controls",
      "model_module_version": "1.5.0",
      "model_name": "HTMLModel",
      "state": {
       "layout": "IPY_MODEL_aec37ce038544b12b98206c6e134c015",
       "style": "IPY_MODEL_1b760030633f4b5ab3b289eb30a240ee",
       "value": " 31/31 [04:23&lt;00:00, 11.85s/it, Completed]"
      }
     },
     "db8af2edfe38404393e1b0e1e2658c14": {
      "model_module": "@jupyter-widgets/controls",
      "model_module_version": "1.5.0",
      "model_name": "DescriptionStyleModel",
      "state": {
       "description_width": ""
      }
     },
     "e1379c8ff27f4878be656bd23b66dd25": {
      "model_module": "@jupyter-widgets/base",
      "model_module_version": "1.2.0",
      "model_name": "LayoutModel",
      "state": {}
     },
     "e1e0aa1a33dc4b64878f7f1f843d26d2": {
      "model_module": "@jupyter-widgets/base",
      "model_module_version": "1.2.0",
      "model_name": "LayoutModel",
      "state": {}
     },
     "e6c448df00a9430693081bc9c20dcf4f": {
      "model_module": "@jupyter-widgets/controls",
      "model_module_version": "1.5.0",
      "model_name": "FloatProgressModel",
      "state": {
       "bar_style": "success",
       "layout": "IPY_MODEL_e1379c8ff27f4878be656bd23b66dd25",
       "max": 1,
       "style": "IPY_MODEL_ec985a7bf6684f928d774a9aae81e8a4",
       "value": 1
      }
     },
     "e7ed6e1776ed4743aeaeb3bfcceeb01e": {
      "model_module": "@jupyter-widgets/controls",
      "model_module_version": "1.5.0",
      "model_name": "DescriptionStyleModel",
      "state": {
       "description_width": ""
      }
     },
     "ec985a7bf6684f928d774a9aae81e8a4": {
      "model_module": "@jupyter-widgets/controls",
      "model_module_version": "1.5.0",
      "model_name": "ProgressStyleModel",
      "state": {
       "description_width": ""
      }
     },
     "ef5ae0960e954aa89cbc5f467477715f": {
      "model_module": "@jupyter-widgets/controls",
      "model_module_version": "1.5.0",
      "model_name": "HTMLModel",
      "state": {
       "layout": "IPY_MODEL_0bd8ff82b47648768c69e745da0fbb73",
       "style": "IPY_MODEL_38255b656af54f61859326e696193fe9",
       "value": "Render HTML: 100%"
      }
     }
    },
    "version_major": 2,
    "version_minor": 0
   }
  }
 },
 "nbformat": 4,
 "nbformat_minor": 4
}
